{
 "cells": [
  {
   "cell_type": "code",
   "execution_count": 129,
   "metadata": {},
   "outputs": [
    {
     "name": "stdout",
     "output_type": "stream",
     "text": [
      "5.50000E+2\t6.22384E+5\t6.22328E+5\t5.60000E+1\n"
     ]
    }
   ],
   "source": [
    "import numpy as np\n",
    "import pandas as pd\n",
    "import re\n",
    "\n",
    "def read_LUNA(file):\n",
    "    with open(file, \"r\") as f:\n",
    "        data = f.read()\n",
    "    \n",
    "    splits = re.split(\"Excitation wavelength: \", data)\n",
    "    wavelength = splits[1].split(\" nm\")[0]\n",
    "        \n",
    "    dataset = splits[1].split(\"[AndorNewton]\")[1]\n",
    "    \n",
    "    print(dataset.split(\"\\n\")[1])\n",
    "    \n",
    "    df = pd.DataFrame([dataset])\n",
    "    \n",
    "    return wavelength\n",
    "    \n",
    "wl = read_LUNA(\"C:/Users/Asger/SE-_22/Øvelse 2/Raw data files/FE/22030807_LUNA.dat\")\n",
    "#print(wl)"
   ]
  }
 ],
 "metadata": {
  "kernelspec": {
   "display_name": "Python 3",
   "language": "python",
   "name": "python3"
  },
  "language_info": {
   "codemirror_mode": {
    "name": "ipython",
    "version": 3
   },
   "file_extension": ".py",
   "mimetype": "text/x-python",
   "name": "python",
   "nbconvert_exporter": "python",
   "pygments_lexer": "ipython3",
   "version": "3.7.4"
  }
 },
 "nbformat": 4,
 "nbformat_minor": 4
}
